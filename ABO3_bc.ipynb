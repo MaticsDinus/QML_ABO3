{
 "cells": [
  {
   "cell_type": "code",
   "execution_count": null,
   "id": "d6b8c5fe-059d-4aec-b652-98f5b1afe8e1",
   "metadata": {},
   "outputs": [],
   "source": [
    "data = pd.read_excel(\"dataset.xlsx\")                              # Load data (feature-target)\n",
    "x = data.drop(columns=[\"Label\"])                      \n",
    "y = data[\"Label\"]\n",
    "\n",
    "x = RobustScaler().fit_transform(x)                               # Scaling and split data\n",
    "x_train, x_test, y_train, y_test = train_test_split(x, y, test_size=0.2, random_state=42, stratify=y_res)\n",
    "\n",
    "smote_enn = SMOTEENN(sampling_strategy='auto', random_state=42)   # Resampling \n",
    "x_train_r, y_train_r = smote_enn.fit_resample(x_train, y_train)\n",
    "\n",
    "param_grid = {                                                    # Tuning GBC\n",
    "    'n_estimators': [50, 100, 200],               \n",
    "    'learning_rate': [0.01, 0.1, 0.2],            \n",
    "    'max_depth': [3, 5, 7],                       \n",
    "    'subsample': [0.8, 1.0]                       \n",
    "}\n",
    "\n",
    "gbc = GradientBoostingClassifier()\n",
    "grid_search = GridSearchCV(estimator=gbc, param_grid=param_grid, cv=5, scoring='accuracy', n_jobs=-1)\n",
    "grid_search.fit(x_train_r, y_train_r)\n",
    "best_gbc = grid_search.best_estimator_\n",
    "best_gbc.fit(x_train_r, y_train_r)\n",
    "best_gbc = grid_search.best_estimator_\n",
    "\n",
    "feature_map = ZFeatureMap(feature_dimension=x_train_r.shape[1], reps=1)  # QSVC\n",
    "quantum_kernel = FidelityQuantumKernel(feature_map=feature_map)\n",
    "qsvc = QSVC(quantum_kernel=quantum_kernel)\n",
    "qsvc.fit(x_train_r, y_train_r)\n",
    "\n",
    "y_pred_tr_gbc = best_gbc.predict(x_train_r).reshape(-1, 1)               # Evaluation\n",
    "y_pred_ts_gbc = best_gbc.predict(x_test).reshape(-1, 1)\n",
    "y_pred_tr_qsvc = qsvc.predict(x_train_r)\n",
    "y_pred_ts_qsvc = qsvc.predict(x_test)\n",
    "print(classification_report(y_train_r, y_pred_tr_gbc))\n",
    "print(classification_report(y_test, y_pred_ts_gbc))\n",
    "print(classification_report(y_train_r, y_pred_tr_qsvc))\n",
    "print(classification_report(y_test, y_pred_ts_qsvc))"
   ]
  },
  {
   "cell_type": "code",
   "execution_count": null,
   "id": "c67838dd-d98a-4c7f-980f-46b8e42b299e",
   "metadata": {},
   "outputs": [],
   "source": []
  },
  {
   "cell_type": "code",
   "execution_count": null,
   "id": "d422658e-f8ac-40c5-864a-f44ea12cda2d",
   "metadata": {},
   "outputs": [],
   "source": []
  },
  {
   "cell_type": "code",
   "execution_count": null,
   "id": "dc8e9f32-ff83-490d-b1cd-7b97c7997aba",
   "metadata": {},
   "outputs": [],
   "source": []
  },
  {
   "cell_type": "code",
   "execution_count": null,
   "id": "d6dfd318-f21f-413e-a83f-d23f38600b87",
   "metadata": {},
   "outputs": [],
   "source": []
  },
  {
   "cell_type": "code",
   "execution_count": null,
   "id": "683869c6-dd26-4514-9567-b2284bd39101",
   "metadata": {},
   "outputs": [],
   "source": []
  },
  {
   "cell_type": "code",
   "execution_count": null,
   "id": "c1724cf2-e602-4f9b-9517-88478a95f6ee",
   "metadata": {},
   "outputs": [],
   "source": []
  }
 ],
 "metadata": {
  "colab": {
   "provenance": [
    {
     "file_id": "1E_Dp6sOosC1DeuuDV-vF9vICs3woS9dW",
     "timestamp": 1731134823394
    }
   ]
  },
  "kernelspec": {
   "display_name": "Python 3 (ipykernel)",
   "language": "python",
   "name": "python3"
  },
  "language_info": {
   "codemirror_mode": {
    "name": "ipython",
    "version": 3
   },
   "file_extension": ".py",
   "mimetype": "text/x-python",
   "name": "python",
   "nbconvert_exporter": "python",
   "pygments_lexer": "ipython3",
   "version": "3.10.10"
  }
 },
 "nbformat": 4,
 "nbformat_minor": 5
}
